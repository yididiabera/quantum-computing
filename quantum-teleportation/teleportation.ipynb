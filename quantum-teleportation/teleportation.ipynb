{
 "cells": [
  {
   "cell_type": "code",
   "execution_count": null,
   "id": "abc0607b",
   "metadata": {},
   "outputs": [],
   "source": [
    "from qiskit import QuantumCircuit\n",
    "from qiskit.visualization import plot_histogram\n",
    "\n",
    "# set up the quantum circuit\n",
    "qc = QuantumCircuit(3, 2)  # qubits[0]=msg, [1]=entangler, [2]=receiver and Classical bits [0, 1] to store sender's measurement results\n",
    "qc.h(0) # preparing a state we want to teleport and putting in a superpositoin state\n",
    "\n",
    "# creating entanglement\n",
    "qc.h(1)  # put qubit 1 in superposition\n",
    "qc.cx(1, 2) # CNOT gate with control: qubit 1 and target: qubit 2\n",
    "\n",
    "# intracting the msg with the entangled part\n",
    "qc.cx(0, 1) #  CNOT gate with control: qubit 0 and target: qubit 1 --> entangle the msg with qubit 1 \n",
    "qc.h(0) # hadamard to complete the bell measurement basis\n",
    "qc.measure([0, 1], [0, 1])  # measure the two qubits and send classical bit to receiver\n",
    "\n",
    "# applying correction based on the sender's bit\n",
    "qc.cx(1, 2)  # If bit 1 is 1 --> apply X to receiver's qubit\n",
    "qc.cz(0, 2)  # If bit 0 is 1 --> apply Z to receiver's qubit\n",
    "\n",
    "\n",
    "qc.draw('mpl')  \n"
   ]
  }
 ],
 "metadata": {
  "language_info": {
   "name": "python"
  }
 },
 "nbformat": 4,
 "nbformat_minor": 5
}
